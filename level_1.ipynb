{
 "cells": [
  {
   "cell_type": "markdown",
   "metadata": {},
   "source": [
    "# Python užduotys - paprastos programėlės"
   ]
  },
  {
   "cell_type": "code",
   "execution_count": null,
   "metadata": {},
   "outputs": [],
   "source": [
    "#1. Tekstinio failo analizė\n",
    "#nuskaityti tekstinį failą\n",
    "#suskaičiuoti ir atspausdinti kiek yra teksto eilučių\n",
    "#suskaičiuoti ir atspausdinti kiek yra žodžių kiekvienoje eilutėje\n",
    "#suskaičiuoti ir atspausdinti kiek yra didžiųjų raidžių kiekvienoje eilutėje\n",
    "#atspausdinti eilutę, kurioje yra daugiausia žodžių\n",
    "#atspausdinti eilutę, kurioje yra daugiausia didžiųjų raidžių\n",
    "#BONUS: suskaičiuoti ir atspausdinti, kiek tekste yra sakinių (sakinio techninis apibrėžimas laisvas)\n",
    "#Naudingos nuorodos: Random Text Generator"
   ]
  },
  {
   "cell_type": "code",
   "execution_count": null,
   "metadata": {},
   "outputs": [],
   "source": [
    "with open(\"level_1.txt\", \"r\") as textfile:\n",
    "    lines = textfile.readlines()"
   ]
  }
 ],
 "metadata": {
  "kernelspec": {
   "display_name": "Python 3.10.6 64-bit",
   "language": "python",
   "name": "python3"
  },
  "language_info": {
   "name": "python",
   "version": "3.10.6"
  },
  "orig_nbformat": 4,
  "vscode": {
   "interpreter": {
    "hash": "b25fe21a67c0f4d94c9dcce4d70c75a5e4f35fb1e431e43fa56a5bcdb3d7f7f9"
   }
  }
 },
 "nbformat": 4,
 "nbformat_minor": 2
}
