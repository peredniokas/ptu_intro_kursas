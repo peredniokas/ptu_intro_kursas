{
 "cells": [
  {
   "cell_type": "code",
   "execution_count": null,
   "metadata": {},
   "outputs": [],
   "source": []
  }
 ],
 "metadata": {
  "kernelspec": {
   "display_name": "Python 3.10.6 64-bit",
   "language": "python",
   "name": "python3"
  },
  "language_info": {
   "name": "python",
   "version": "3.10.6"
  },
  "orig_nbformat": 4,
  "vscode": {
   "interpreter": {
    "hash": "b25fe21a67c0f4d94c9dcce4d70c75a5e4f35fb1e431e43fa56a5bcdb3d7f7f9"
   }
  }
 },
 "nbformat": 4,
 "nbformat_minor": 2
}
