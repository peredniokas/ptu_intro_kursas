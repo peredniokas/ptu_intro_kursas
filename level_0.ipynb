{
 "cells": [
  {
   "cell_type": "markdown",
   "metadata": {},
   "source": [
    "# parašykite funkciją, kuri lyginius skaičius dalintų vieną iš kito, o nelyginius sudaugintų, ir rezultatą grąžintų. Jeigu vienas yra lyginis, o kitas ne - atimtų didesnį iš mažesnio."
   ]
  },
  {
   "cell_type": "code",
   "execution_count": 1,
   "metadata": {},
   "outputs": [
    {
     "name": "stdout",
     "output_type": "stream",
     "text": [
      "2.0\n",
      "0.5\n",
      "21\n",
      "1\n",
      "5\n"
     ]
    }
   ],
   "source": [
    "def multidivrest(number1, number2):\n",
    "    if number1 % 2 == 0 and number2 % 2 == 0 and number2 != 0:\n",
    "        return number1 / number2\n",
    "    elif number1 % 2 != 0 and number2 % 2 != 0:\n",
    "        return number1 * number2\n",
    "    else:\n",
    "        return abs(number1 - number2)\n",
    "\n",
    "print(multidivrest(4, 2))\n",
    "print(multidivrest(2, 4))\n",
    "print(multidivrest(3, 7))\n",
    "print(multidivrest(4, 3))\n",
    "print(multidivrest(4, 9))"
   ]
  },
  {
   "cell_type": "markdown",
   "metadata": {},
   "source": [
    "# Grąžinkite sveikų skaičių sąrašo didžiausios ir mažiausios reikšmių indeksus"
   ]
  },
  {
   "cell_type": "code",
   "execution_count": 2,
   "metadata": {},
   "outputs": [
    {
     "name": "stdout",
     "output_type": "stream",
     "text": [
      "2\n",
      "3\n"
     ]
    }
   ],
   "source": [
    "sarasas = [5, 7, 12, 1, 6, 4, 7, 11]\n",
    "# print(sarasas.index(6))\n",
    "print(sarasas.index(max(sarasas)))\n",
    "print(sarasas.index(min(sarasas)))"
   ]
  },
  {
   "cell_type": "markdown",
   "metadata": {},
   "source": [
    "# Išmaišykite kortų kaladę"
   ]
  },
  {
   "cell_type": "code",
   "execution_count": null,
   "metadata": {},
   "outputs": [],
   "source": [
    "#Sukurkite sarašą skaičių nuo 1 iki 52\n",
    "#Importuokite iš random modulio shuffle\n",
    "#Išmaišykite sąrašo elementus atsitiktine tvarka\n",
    "#Bonus: vietoj elementų skaičių, sugeneruokite saraše kortų kaladės reikšmes."
   ]
  },
  {
   "cell_type": "code",
   "execution_count": 3,
   "metadata": {},
   "outputs": [
    {
     "name": "stdout",
     "output_type": "stream",
     "text": [
      "[51, 10, 42, 45, 37, 52, 17, 24, 5, 33, 21, 11, 13, 34, 25, 48, 15, 22, 43, 16, 9, 8, 49, 6, 26, 38, 39, 4, 27, 19, 36, 18, 20, 28, 2, 50, 40, 29, 3, 46, 44, 47, 14, 7, 35, 30, 1, 41, 32, 23, 12, 31]\n"
     ]
    }
   ],
   "source": [
    "from random import shuffle\n",
    "sarasas = list(range(1, 53))\n",
    "shuffle(sarasas)\n",
    "print(sarasas)"
   ]
  },
  {
   "cell_type": "markdown",
   "metadata": {},
   "source": [
    "# bonus dalis"
   ]
  },
  {
   "cell_type": "code",
   "execution_count": 2,
   "metadata": {},
   "outputs": [
    {
     "name": "stdout",
     "output_type": "stream",
     "text": [
      "['5♠', 'J♣', 'K♠', '6♠', '2♦', '4♦', '5♣', '7♠', '6♥', '3♥', '8♦', '2♣', '3♣', 'Q♦', 'A♠', 'J♥', 'T♦', '10♠', '4♠', '5♦', 'T♥', '4♥', '2♠', '8♣', '4♣', '8♥', 'J♦', 'Q♣', '9♠', 'Q♠', '6♣', '10♣', '7♣', 'T♣', '7♥', 'K♣', 'T♠', '3♦', 'A♦', 'K♥', 'A♣', '10♦', 'A♥', 'Q♥', '10♥', '9♣', '7♦', '9♦', 'K♦', '2♥', '5♥', 'J♠', '9♥', '8♠', '6♦', '3♠']\n"
     ]
    }
   ],
   "source": [
    "from random import shuffle\n",
    "\n",
    "kortos = []\n",
    "for zenklas in [\"\\u2660\", \"\\u2663\", \"\\u2665\", \"\\u2666\"]:\n",
    "    for reiksme in [*range(2, 11), \"T\", \"J\", \"Q\", \"K\", \"A\"]:\n",
    "        kortos.append(f\"{reiksme}{zenklas}\")\n",
    "shuffle(kortos)\n",
    "print(kortos)"
   ]
  },
  {
   "cell_type": "markdown",
   "metadata": {},
   "source": [
    "# Suskaičiuokite, kiek penktadienių, kurių mėnesio diena yra 30 ir daugiau, praėjo nuo jūsų gimtadienio"
   ]
  },
  {
   "cell_type": "code",
   "execution_count": 1,
   "metadata": {},
   "outputs": [
    {
     "name": "stdout",
     "output_type": "stream",
     "text": [
      "1792\n",
      "Nugyvenau 87 30+ penktadienių\n",
      "1988-09-30\n",
      "1988-12-30\n",
      "1989-03-31\n",
      "1989-06-30\n",
      "1990-03-30\n",
      "1990-08-31\n",
      "1990-11-30\n",
      "1991-05-31\n",
      "1991-08-30\n",
      "1992-01-31\n",
      "1992-07-31\n",
      "1992-10-30\n",
      "1993-04-30\n",
      "1993-07-30\n",
      "1993-12-31\n",
      "1994-09-30\n",
      "1994-12-30\n",
      "1995-03-31\n",
      "1995-06-30\n",
      "1996-05-31\n",
      "1996-08-30\n",
      "1997-01-31\n",
      "1997-05-30\n",
      "1997-10-31\n",
      "1998-01-30\n",
      "1998-07-31\n",
      "1998-10-30\n",
      "1999-04-30\n",
      "1999-07-30\n",
      "1999-12-31\n",
      "2000-03-31\n",
      "2000-06-30\n",
      "2001-03-30\n",
      "2001-08-31\n",
      "2001-11-30\n",
      "2002-05-31\n",
      "2002-08-30\n",
      "2003-01-31\n",
      "2003-05-30\n",
      "2003-10-31\n",
      "2004-01-30\n",
      "2004-04-30\n",
      "2004-07-30\n",
      "2004-12-31\n",
      "2005-09-30\n",
      "2005-12-30\n",
      "2006-03-31\n",
      "2006-06-30\n",
      "2007-03-30\n",
      "2007-08-31\n",
      "2007-11-30\n",
      "2008-05-30\n",
      "2008-10-31\n",
      "2009-01-30\n",
      "2009-07-31\n",
      "2009-10-30\n",
      "2010-04-30\n",
      "2010-07-30\n",
      "2010-12-31\n",
      "2011-09-30\n",
      "2011-12-30\n",
      "2012-03-30\n",
      "2012-08-31\n",
      "2012-11-30\n",
      "2013-05-31\n",
      "2013-08-30\n",
      "2014-01-31\n",
      "2014-05-30\n",
      "2014-10-31\n",
      "2015-01-30\n",
      "2015-07-31\n",
      "2015-10-30\n",
      "2016-09-30\n",
      "2016-12-30\n",
      "2017-03-31\n",
      "2017-06-30\n",
      "2018-03-30\n",
      "2018-08-31\n",
      "2018-11-30\n",
      "2019-05-31\n",
      "2019-08-30\n",
      "2020-01-31\n",
      "2020-07-31\n",
      "2020-10-30\n",
      "2021-04-30\n",
      "2021-07-30\n",
      "2021-12-31\n"
     ]
    }
   ],
   "source": [
    "from datetime import date, timedelta\n",
    "gimtadienis = date(1988, 5, 20)\n",
    "skirtumas = date.today() - gimtadienis\n",
    "# viso nugyventa penktadienių\n",
    "print(skirtumas.days // 7)\n",
    "# penktadieniai virš 30 mėnesio dienos bus renkami čia\n",
    "penktadieniai_30p = []\n",
    "# randame pirmą penktadienį\n",
    "if 4 - gimtadienis.weekday() >= 0:\n",
    "    pirmas_penktadienis = gimtadienis + timedelta(days=(4-gimtadienis.weekday()))\n",
    "else:\n",
    "    pirmas_penktadienis = gimtadienis + timedelta(days=(11-gimtadienis.weekday()))\n",
    "# einam per visų mugyventų penktadienių datas\n",
    "for kelintas in range(skirtumas.days // 7 + 1):\n",
    "    penktadienis = pirmas_penktadienis + timedelta(days=7*kelintas)\n",
    "    # ir tikrinam mėnesio dieną. Jei pasisekė - traukiam į sąrašą.\n",
    "    if penktadienis.day >= 30:\n",
    "        penktadieniai_30p.append(penktadienis)\n",
    "# tiesos akimirka\n",
    "print(f\"Nugyvenau {len(penktadieniai_30p)} 30+ penktadienių\")\n",
    "for spausdintadienis in penktadieniai_30p:\n",
    "    print(spausdintadienis)"
   ]
  }
 ],
 "metadata": {
  "kernelspec": {
   "display_name": "Python 3.10.6 64-bit",
   "language": "python",
   "name": "python3"
  },
  "language_info": {
   "codemirror_mode": {
    "name": "ipython",
    "version": 3
   },
   "file_extension": ".py",
   "mimetype": "text/x-python",
   "name": "python",
   "nbconvert_exporter": "python",
   "pygments_lexer": "ipython3",
   "version": "3.10.6"
  },
  "orig_nbformat": 4,
  "vscode": {
   "interpreter": {
    "hash": "b25fe21a67c0f4d94c9dcce4d70c75a5e4f35fb1e431e43fa56a5bcdb3d7f7f9"
   }
  }
 },
 "nbformat": 4,
 "nbformat_minor": 2
}
